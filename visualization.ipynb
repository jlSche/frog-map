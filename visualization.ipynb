{
 "cells": [
  {
   "cell_type": "code",
   "execution_count": 1,
   "metadata": {
    "collapsed": false
   },
   "outputs": [],
   "source": [
    "# -*- coding: utf-8 -*-\n",
    "#%matplotlib inline\n",
    "import pandas as pd\n",
    "import matplotlib.pyplot as plt\n",
    "import datetime\n",
    "df = pd.read_csv('./frog.csv', encoding='big5', infer_datetime_format=True, parse_dates=['time'])\n",
    "#df['date'] = df['time'].apply(lambda x: x.date())\n",
    "#df['time'] = df['time'].apply(lambda x: x.time())"
   ]
  },
  {
   "cell_type": "code",
   "execution_count": 2,
   "metadata": {
    "collapsed": false
   },
   "outputs": [],
   "source": [
    "#grouped_time = df.groupby(pd.TimeGrouper(key='time', freq='1M')).size()\n",
    "grouped_time = df.set_index('time').groupby('specie').resample('M', how='size')"
   ]
  },
  {
   "cell_type": "code",
   "execution_count": 3,
   "metadata": {
    "collapsed": false
   },
   "outputs": [],
   "source": [
    "def datetimeConverter(date):\n",
    "    ### convert datatype of date from timestamp to float \n",
    "    ### ex: 2014-03 -> 2014.03\n",
    "    formated_date = date.apply(lambda x: x.year + float(x.month)/100)\n",
    "    return formated_date\n",
    "\n",
    "def shortenDatetime(date):\n",
    "    ### make the datetime Y-M-D T to Y-M\n",
    "    formated_date = date.apply(lambda x: x.date().strftime('%Y-%m'))\n",
    "    return formated_date"
   ]
  },
  {
   "cell_type": "markdown",
   "metadata": {},
   "source": [
    "Run Chart of all Species"
   ]
  },
  {
   "cell_type": "code",
   "execution_count": 9,
   "metadata": {
    "collapsed": false
   },
   "outputs": [],
   "source": [
    "from scipy.interpolate import spline\n",
    "from scipy.interpolate import interp1d\n",
    "import numpy as np\n",
    "\n",
    "t = grouped_time.reset_index()\n",
    "t.rename(columns={0:'count'}, inplace=True)\n",
    "t['time'] = shortenDatetime(t['time'])\n",
    "\n",
    "t = t.pivot('time', 'specie')['count']\n",
    "t.fillna(0, inplace= True)\n",
    "\n",
    "x_ax = np.linspace(0, 19, 20)\n",
    "smooth_x_ax = np.linspace(0, 19, 20*10)\n",
    "    \n",
    "frog_1  = interp1d(x_ax, t[u'台北樹蛙'], kind='cubic')\n",
    "frog_2  = interp1d(x_ax, t[u'巴氏小雨蛙'], kind='cubic')\n",
    "frog_3  = interp1d(x_ax, t[u'布氏樹蛙'], kind='cubic')\n",
    "frog_4  = interp1d(x_ax, t[u'拉都希氏赤蛙'], kind='cubic')\n",
    "frog_5  = interp1d(x_ax, t[u'斯文豪氏赤蛙'], kind='cubic')\n",
    "frog_6  = interp1d(x_ax, t[u'福建大頭蛙'], kind='cubic')\n",
    "frog_7  = interp1d(x_ax, t[u'腹斑蛙'], kind='cubic')\n",
    "frog_8  = interp1d(x_ax, t[u'艾氏樹蛙'], kind='cubic')\n",
    "frog_9  = interp1d(x_ax, t[u'莫氏樹蛙'], kind='cubic')\n",
    "frog_10 = interp1d(x_ax, t[u'虎皮蛙'], kind='cubic')\n",
    "frog_11 = interp1d(x_ax, t[u'諸羅樹蛙'], kind='cubic')\n",
    "frog_12 = interp1d(x_ax, t[u'豎琴蛙'], kind='cubic')\n",
    "frog_13 = interp1d(x_ax, t[u'面天樹蛙'], kind='cubic')\n",
    "frog_14 = interp1d(x_ax, t[u'黑眶蟾蜍'], kind='cubic')\n",
    "frog_15 = interp1d(x_ax, t[u'黑蒙西氏小雨蛙'], kind='cubic')\n",
    "\n",
    "plt.plot(smooth_x_ax, frog_1(smooth_x_ax), \n",
    "         smooth_x_ax, frog_2(smooth_x_ax), \n",
    "         smooth_x_ax, frog_3(smooth_x_ax),\n",
    "         smooth_x_ax, frog_4(smooth_x_ax),\n",
    "         smooth_x_ax, frog_5(smooth_x_ax),\n",
    "         smooth_x_ax, frog_6(smooth_x_ax),\n",
    "         smooth_x_ax, frog_7(smooth_x_ax),\n",
    "         smooth_x_ax, frog_8(smooth_x_ax),\n",
    "         smooth_x_ax, frog_9(smooth_x_ax),\n",
    "         smooth_x_ax, frog_10(smooth_x_ax),\n",
    "         smooth_x_ax, frog_11(smooth_x_ax),\n",
    "         smooth_x_ax, frog_12(smooth_x_ax),\n",
    "         smooth_x_ax, frog_13(smooth_x_ax),\n",
    "         smooth_x_ax, frog_14(smooth_x_ax),\n",
    "         smooth_x_ax, frog_15(smooth_x_ax),\n",
    "         linewidth=2)\n",
    "\n",
    "plt.xticks(x_ax, t.index, size='small', rotation=70)\n",
    "plt.tick_params(axis='both', labelsize=14, labelcolor='dimgray')\n",
    "plt.legend(t.columns, loc=2)\n",
    "plt.show()"
   ]
  },
  {
   "cell_type": "code",
   "execution_count": 12,
   "metadata": {
    "collapsed": false
   },
   "outputs": [],
   "source": [
    "place_2 = df[df['place']==u'2號量水堰']\n",
    "place_cabin = df[df['place']==u'小木屋']\n",
    "place_4 = df[df['place']==u'4號量水堰']\n",
    "place_garden = df[df['place']==u'藥園聲景']\n",
    "place_big = df[df['place']==u'巨竹林']\n",
    "place_5 = df[df['place']==u'5號量水堰']"
   ]
  },
  {
   "cell_type": "code",
   "execution_count": 13,
   "metadata": {
    "collapsed": false
   },
   "outputs": [],
   "source": [
    "t1 = place_2.groupby(pd.TimeGrouper(key='time', freq='1M')).size()\n",
    "t2 = place_cabin.groupby(pd.TimeGrouper(key='time', freq='1M')).size()\n",
    "t3 = place_4.groupby(pd.TimeGrouper(key='time', freq='1M')).size()\n",
    "t4 = place_garden.groupby(pd.TimeGrouper(key='time', freq='1M')).size()\n",
    "t5 = place_big.groupby(pd.TimeGrouper(key='time', freq='1M')).size()\n",
    "t6 = place_5.groupby(pd.TimeGrouper(key='time', freq='1M')).size()"
   ]
  },
  {
   "cell_type": "code",
   "execution_count": null,
   "metadata": {
    "collapsed": true
   },
   "outputs": [],
   "source": []
  }
 ],
 "metadata": {
  "kernelspec": {
   "display_name": "Python 2",
   "language": "python",
   "name": "python2"
  },
  "language_info": {
   "codemirror_mode": {
    "name": "ipython",
    "version": 2
   },
   "file_extension": ".py",
   "mimetype": "text/x-python",
   "name": "python",
   "nbconvert_exporter": "python",
   "pygments_lexer": "ipython2",
   "version": "2.7.6"
  }
 },
 "nbformat": 4,
 "nbformat_minor": 0
}
